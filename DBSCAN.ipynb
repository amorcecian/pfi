{
 "cells": [
  {
   "cell_type": "code",
   "execution_count": 50,
   "metadata": {},
   "outputs": [],
   "source": [
    "import pymssql\n",
    "import pandas as pd\n",
    "import numpy as np\n",
    "from datetime import datetime\n",
    "from sklearn.cluster import KMeans, DBSCAN\n",
    "from sklearn.metrics import adjusted_rand_score, silhouette_score, silhouette_samples\n",
    "from sklearn.neighbors import NearestNeighbors\n",
    "import sqlalchemy\n",
    "from sqlalchemy  import create_engine\n",
    "import matplotlib.pyplot as plt\n",
    "from geopy.distance import great_circle\n",
    "from shapely.geometry import MultiPoint\n",
    "from collections import Counter"
   ]
  },
  {
   "cell_type": "code",
   "execution_count": 6,
   "metadata": {},
   "outputs": [],
   "source": [
    "############################### Database Connections ######################################\n",
    "# AWS\n",
    "#server = 'pfidb.ci3ir6nuotoi.sa-east-1.rds.amazonaws.com'\n",
    "#user = 'admin'\n",
    "#password = 'AramLucas2020.'\n",
    "#db = 'pfidb'\n",
    "\n",
    "# Local DB PC\n",
    "server = 'DESKTOP-3OHRULK'\n",
    "user = 'sa'\n",
    "password = 'welcome1'\n",
    "db = 'pfidb'\n",
    "\n",
    "# Connection to DB\n",
    "conn = pymssql.connect(server,user,password,db)\n",
    "\n",
    "#Connection using sqlAlchemy\n",
    "conn_for_insert = fr'mssql+pymssql://'+user+':'+password+'@'+server+'/'+db\n",
    "engine = create_engine(conn_for_insert)"
   ]
  },
  {
   "cell_type": "code",
   "execution_count": 7,
   "metadata": {},
   "outputs": [],
   "source": [
    "#Query that retrives the usage of the stations\n",
    "# query = open(\"master_query_v3.sql\",\"r\")\n",
    "# df_stations_usage = pd.read_sql_query(query.read(),conn)\n",
    "\n",
    "stations_query = \"\"\"SELECT * FROM [estaciones-de-bicicletas-publicas]\"\"\"\n",
    "# stations_query = \"\"\"SELECT * FROM [estaciones-bicicletas-publicas-2019]\"\"\"\n",
    "df_stations = pd.read_sql(stations_query,conn)\n"
   ]
  },
  {
   "cell_type": "code",
   "execution_count": 11,
   "metadata": {},
   "outputs": [
    {
     "name": "stderr",
     "output_type": "stream",
     "text": [
      "C:\\ProgramData\\Anaconda3\\lib\\site-packages\\ipykernel_launcher.py:1: FutureWarning: Method .as_matrix will be removed in a future version. Use .values instead.\n",
      "  \"\"\"Entry point for launching an IPython kernel.\n"
     ]
    }
   ],
   "source": [
    "coords = df_stations.as_matrix(columns=['lat', 'long'])"
   ]
  },
  {
   "cell_type": "code",
   "execution_count": 64,
   "metadata": {},
   "outputs": [
    {
     "data": {
      "text/plain": [
       "[<matplotlib.lines.Line2D at 0x27f45c973c8>]"
      ]
     },
     "execution_count": 64,
     "metadata": {},
     "output_type": "execute_result"
    },
    {
     "data": {
      "image/png": "[encoded data removed]",
      "text/plain": [
       "<Figure size 432x288 with 1 Axes>"
      ]
     },
     "metadata": {
      "needs_background": "light"
     },
     "output_type": "display_data"
    }
   ],
   "source": [
    "neigh = NearestNeighbors(n_neighbors=2)\n",
    "nbrs = neigh.fit(coords)\n",
    "distances, indices = nbrs.kneighbors(coords)\n",
    "distances = np.sort(distances, axis=0)\n",
    "distances = distances[:,1]\n",
    "plt.plot(distances)"
   ]
  },
  {
   "cell_type": "code",
   "execution_count": 144,
   "metadata": {},
   "outputs": [
    {
     "name": "stdout",
     "output_type": "stream",
     "text": [
      "Number of clusters: 71\n"
     ]
    },
    {
     "data": {
      "text/plain": [
       "array([[ 0,  1],\n",
       "       [ 1, 59],\n",
       "       [ 2,  1],\n",
       "       [ 3,  4],\n",
       "       [ 4, 10],\n",
       "       [ 5,  2],\n",
       "       [ 6,  1],\n",
       "       [ 7,  5],\n",
       "       [ 8,  1],\n",
       "       [ 9,  8],\n",
       "       [10,  6],\n",
       "       [11,  2],\n",
       "       [12,  2],\n",
       "       [13,  2],\n",
       "       [14,  2],\n",
       "       [15,  6],\n",
       "       [16,  5],\n",
       "       [17,  1],\n",
       "       [18,  4],\n",
       "       [19,  1],\n",
       "       [20,  2],\n",
       "       [21,  1],\n",
       "       [22,  1],\n",
       "       [23,  5],\n",
       "       [24,  7],\n",
       "       [25,  1],\n",
       "       [26,  1],\n",
       "       [27,  1],\n",
       "       [28,  2],\n",
       "       [29,  1],\n",
       "       [30,  1],\n",
       "       [31,  1],\n",
       "       [32,  2],\n",
       "       [33,  3],\n",
       "       [34,  1],\n",
       "       [35,  2],\n",
       "       [36,  1],\n",
       "       [37,  1],\n",
       "       [38,  1],\n",
       "       [39,  2],\n",
       "       [40,  1],\n",
       "       [41,  2],\n",
       "       [42,  1],\n",
       "       [43,  1],\n",
       "       [44,  3],\n",
       "       [45,  1],\n",
       "       [46,  1],\n",
       "       [47,  1],\n",
       "       [48,  1],\n",
       "       [49,  2],\n",
       "       [50,  1],\n",
       "       [51,  1],\n",
       "       [52,  2],\n",
       "       [53,  1],\n",
       "       [54,  1],\n",
       "       [55,  2],\n",
       "       [56,  1],\n",
       "       [57,  2],\n",
       "       [58,  2],\n",
       "       [59,  1],\n",
       "       [60,  1],\n",
       "       [61,  1],\n",
       "       [62,  1],\n",
       "       [63,  1],\n",
       "       [64,  1],\n",
       "       [65,  1],\n",
       "       [66,  1],\n",
       "       [67,  1],\n",
       "       [68,  1],\n",
       "       [69,  1],\n",
       "       [70,  1]], dtype=int64)"
      ]
     },
     "execution_count": 144,
     "metadata": {},
     "output_type": "execute_result"
    }
   ],
   "source": [
    "kms_per_radian = 6371.0088\n",
    "epsilon = 0.6 / kms_per_radian\n",
    "# db = DBSCAN(eps=epsilon, min_samples=1, algorithm='ball_tree', metric='haversine').fit(np.radians(coords))\n",
    "db = DBSCAN(eps=0.00009, min_samples=1, algorithm='auto', metric='manhattan',leaf_size=10,).fit(np.radians(coords))\n",
    "cluster_labels = db.labels_\n",
    "num_clusters = len(set(cluster_labels))\n",
    "clusters = pd.Series([coords[cluster_labels == n] for n in range(num_clusters)])\n",
    "print('Number of clusters: {}'.format(num_clusters))\n",
    "np.array(np.unique(cluster_labels, return_counts=True)).T"
   ]
  },
  {
   "cell_type": "code",
   "execution_count": 129,
   "metadata": {},
   "outputs": [
    {
     "data": {
      "text/plain": [
       "array([[ 0,  1],\n",
       "       [ 1, 71],\n",
       "       [ 2,  7],\n",
       "       [ 3,  4],\n",
       "       [ 4, 23],\n",
       "       [ 5,  1],\n",
       "       [ 6, 18],\n",
       "       [ 7,  1],\n",
       "       [ 8,  6],\n",
       "       [ 9,  5],\n",
       "       [10,  2],\n",
       "       [11,  3],\n",
       "       [12,  6],\n",
       "       [13,  1],\n",
       "       [14,  4],\n",
       "       [15,  1],\n",
       "       [16,  2],\n",
       "       [17,  1],\n",
       "       [18,  1],\n",
       "       [19,  2],\n",
       "       [20,  4],\n",
       "       [21,  1],\n",
       "       [22,  3],\n",
       "       [23,  1],\n",
       "       [24,  1],\n",
       "       [25,  2],\n",
       "       [26,  1],\n",
       "       [27,  2],\n",
       "       [28,  1],\n",
       "       [29,  2],\n",
       "       [30,  1],\n",
       "       [31,  1],\n",
       "       [32,  1],\n",
       "       [33,  1],\n",
       "       [34,  1],\n",
       "       [35,  2],\n",
       "       [36,  2],\n",
       "       [37,  3],\n",
       "       [38,  1],\n",
       "       [39,  1],\n",
       "       [40,  1],\n",
       "       [41,  1],\n",
       "       [42,  1],\n",
       "       [43,  1],\n",
       "       [44,  1],\n",
       "       [45,  1],\n",
       "       [46,  1]], dtype=int64)"
      ]
     },
     "execution_count": 129,
     "metadata": {},
     "output_type": "execute_result"
    }
   ],
   "source": [
    "# cluster_labels\n",
    "np.array(np.unique(cluster_labels, return_counts=True)).T"
   ]
  },
  {
   "cell_type": "code",
   "execution_count": 13,
   "metadata": {},
   "outputs": [],
   "source": [
    "def get_centermost_point(cluster):\n",
    "    centroid = (MultiPoint(cluster).centroid.x, MultiPoint(cluster).centroid.y)\n",
    "    centermost_point = min(cluster, key=lambda point: great_circle(point, centroid).m)\n",
    "    return tuple(centermost_point)\n",
    "centermost_points = clusters.map(get_centermost_point)\n"
   ]
  },
  {
   "cell_type": "code",
   "execution_count": 14,
   "metadata": {},
   "outputs": [],
   "source": [
    "lats, longs = zip(*centermost_points)\n",
    "rep_points = pd.DataFrame({'long':longs, 'lat':lats})\n"
   ]
  },
  {
   "cell_type": "code",
   "execution_count": 15,
   "metadata": {},
   "outputs": [
    {
     "ename": "NameError",
     "evalue": "name 'rs' is not defined",
     "output_type": "error",
     "traceback": [
      "\u001b[1;31m---------------------------------------------------------------------------\u001b[0m",
      "\u001b[1;31mNameError\u001b[0m                                 Traceback (most recent call last)",
      "\u001b[1;32m<ipython-input-15-e436a9186623>\u001b[0m in \u001b[0;36m<module>\u001b[1;34m\u001b[0m\n\u001b[0;32m      1\u001b[0m \u001b[0mfig\u001b[0m\u001b[1;33m,\u001b[0m \u001b[0max\u001b[0m \u001b[1;33m=\u001b[0m \u001b[0mplt\u001b[0m\u001b[1;33m.\u001b[0m\u001b[0msubplots\u001b[0m\u001b[1;33m(\u001b[0m\u001b[0mfigsize\u001b[0m\u001b[1;33m=\u001b[0m\u001b[1;33m[\u001b[0m\u001b[1;36m10\u001b[0m\u001b[1;33m,\u001b[0m \u001b[1;36m6\u001b[0m\u001b[1;33m]\u001b[0m\u001b[1;33m)\u001b[0m\u001b[1;33m\u001b[0m\u001b[1;33m\u001b[0m\u001b[0m\n\u001b[1;32m----> 2\u001b[1;33m \u001b[0mrs_scatter\u001b[0m \u001b[1;33m=\u001b[0m \u001b[0max\u001b[0m\u001b[1;33m.\u001b[0m\u001b[0mscatter\u001b[0m\u001b[1;33m(\u001b[0m\u001b[0mrs\u001b[0m\u001b[1;33m[\u001b[0m\u001b[1;34m'long'\u001b[0m\u001b[1;33m]\u001b[0m\u001b[1;33m,\u001b[0m \u001b[0mrs\u001b[0m\u001b[1;33m[\u001b[0m\u001b[1;34m'lat'\u001b[0m\u001b[1;33m]\u001b[0m\u001b[1;33m,\u001b[0m \u001b[0mc\u001b[0m\u001b[1;33m=\u001b[0m\u001b[1;34m'#99cc99'\u001b[0m\u001b[1;33m,\u001b[0m \u001b[0medgecolor\u001b[0m\u001b[1;33m=\u001b[0m\u001b[1;34m'None'\u001b[0m\u001b[1;33m,\u001b[0m \u001b[0malpha\u001b[0m\u001b[1;33m=\u001b[0m\u001b[1;36m0.7\u001b[0m\u001b[1;33m,\u001b[0m \u001b[0ms\u001b[0m\u001b[1;33m=\u001b[0m\u001b[1;36m120\u001b[0m\u001b[1;33m)\u001b[0m\u001b[1;33m\u001b[0m\u001b[1;33m\u001b[0m\u001b[0m\n\u001b[0m\u001b[0;32m      3\u001b[0m \u001b[0mdf_scatter\u001b[0m \u001b[1;33m=\u001b[0m \u001b[0max\u001b[0m\u001b[1;33m.\u001b[0m\u001b[0mscatter\u001b[0m\u001b[1;33m(\u001b[0m\u001b[0mdf\u001b[0m\u001b[1;33m[\u001b[0m\u001b[1;34m'long'\u001b[0m\u001b[1;33m]\u001b[0m\u001b[1;33m,\u001b[0m \u001b[0mdf\u001b[0m\u001b[1;33m[\u001b[0m\u001b[1;34m'lat'\u001b[0m\u001b[1;33m]\u001b[0m\u001b[1;33m,\u001b[0m \u001b[0mc\u001b[0m\u001b[1;33m=\u001b[0m\u001b[1;34m'k'\u001b[0m\u001b[1;33m,\u001b[0m \u001b[0malpha\u001b[0m\u001b[1;33m=\u001b[0m\u001b[1;36m0.9\u001b[0m\u001b[1;33m,\u001b[0m \u001b[0ms\u001b[0m\u001b[1;33m=\u001b[0m\u001b[1;36m3\u001b[0m\u001b[1;33m)\u001b[0m\u001b[1;33m\u001b[0m\u001b[1;33m\u001b[0m\u001b[0m\n\u001b[0;32m      4\u001b[0m \u001b[0max\u001b[0m\u001b[1;33m.\u001b[0m\u001b[0mset_title\u001b[0m\u001b[1;33m(\u001b[0m\u001b[1;34m'Full data set vs DBSCAN reduced set'\u001b[0m\u001b[1;33m)\u001b[0m\u001b[1;33m\u001b[0m\u001b[1;33m\u001b[0m\u001b[0m\n\u001b[0;32m      5\u001b[0m \u001b[0max\u001b[0m\u001b[1;33m.\u001b[0m\u001b[0mset_xlabel\u001b[0m\u001b[1;33m(\u001b[0m\u001b[1;34m'Longitude'\u001b[0m\u001b[1;33m)\u001b[0m\u001b[1;33m\u001b[0m\u001b[1;33m\u001b[0m\u001b[0m\n",
      "\u001b[1;31mNameError\u001b[0m: name 'rs' is not defined"
     ]
    },
    {
     "data": {
      "image/png": "[encoded data removed]",
      "text/plain": [
       "<Figure size 720x432 with 1 Axes>"
      ]
     },
     "metadata": {
      "needs_background": "light"
     },
     "output_type": "display_data"
    }
   ],
   "source": [
    "fig, ax = plt.subplots(figsize=[10, 6])\n",
    "rs_scatter = ax.scatter(rs['long'], rs['lat'], c='#99cc99', edgecolor='None', alpha=0.7, s=120)\n",
    "df_scatter = ax.scatter(df['long'], df['lat'], c='k', alpha=0.9, s=3)\n",
    "ax.set_title('Full data set vs DBSCAN reduced set')\n",
    "ax.set_xlabel('Longitude')\n",
    "ax.set_ylabel('Latitude')\n",
    "ax.legend([df_scatter, rs_scatter], ['Full set', 'Reduced set'], loc='upper right')\n",
    "plt.show()"
   ]
  }
 ],
 "metadata": {
  "kernelspec": {
   "display_name": "Python 3",
   "language": "python",
   "name": "python3"
  },
  "language_info": {
   "codemirror_mode": {
    "name": "ipython",
    "version": 3
   },
   "file_extension": ".py",
   "mimetype": "text/x-python",
   "name": "python",
   "nbconvert_exporter": "python",
   "pygments_lexer": "ipython3",
   "version": "3.7.3"
  }
 },
 "nbformat": 4,
 "nbformat_minor": 2
}
