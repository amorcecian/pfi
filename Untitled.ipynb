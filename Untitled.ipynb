{
 "cells": [
  {
   "cell_type": "code",
   "execution_count": 43,
   "metadata": {},
   "outputs": [],
   "source": [
    "import pandas as pd\n",
    "\n",
    "df_recorridos = pd.read_csv(\"recorridos-realizados-2018.csv\")\n",
    "df_recorridos[\"bici_tiempo_uso\"]=df_recorridos[\"bici_tiempo_uso\"].str.replace('0 days','',regex=False)\n",
    "df_recorridos[\"bici_tiempo_uso\"]=df_recorridos[\"bici_tiempo_uso\"].str[:9]\n",
    "#df_recorridos[\"bici_tiempo_uso\"]=pd.to_datetime(df_recorridos[\"bici_tiempo_uso\"], format='%H:%M:%S')\n",
    "df_recorridos.head()\n",
    "\n",
    "df_recorridos_simplificado = df_recorridos[[\"bici_id_usuario\",\"bici_Fecha_hora_retiro\",\"bici_tiempo_uso\",\"bici_estacion_origen\",\"bici_estacion_destino\",\"bici_sexo\",\"bici_edad\"]]\n",
    "\n",
    "df_recorridos_simplificado.head()\n",
    "df_recorridos_simplificado.to_csv(r'recorridos-realizados-2018-corregido.csv')\n",
    "\n",
    "\n",
    "\n",
    "\n",
    "\n",
    "\n"
   ]
  },
  {
   "cell_type": "code",
   "execution_count": null,
   "metadata": {},
   "outputs": [],
   "source": []
  }
 ],
 "metadata": {
  "kernelspec": {
   "display_name": "Python 3",
   "language": "python",
   "name": "python3"
  },
  "language_info": {
   "codemirror_mode": {
    "name": "ipython",
    "version": 3
   },
   "file_extension": ".py",
   "mimetype": "text/x-python",
   "name": "python",
   "nbconvert_exporter": "python",
   "pygments_lexer": "ipython3",
   "version": "3.7.3"
  }
 },
 "nbformat": 4,
 "nbformat_minor": 2
}
