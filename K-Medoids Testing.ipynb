{
 "cells": [
  {
   "cell_type": "code",
   "execution_count": 1,
   "metadata": {},
   "outputs": [
    {
     "name": "stderr",
     "output_type": "stream",
     "text": [
      "C:\\ProgramData\\Anaconda3\\lib\\site-packages\\ipykernel_launcher.py:1: DeprecationWarning: Using or importing the ABCs from 'collections' instead of from 'collections.abc' is deprecated, and in 3.8 it will stop working\n",
      "  \"\"\"Entry point for launching an IPython kernel.\n"
     ]
    }
   ],
   "source": [
    "import pymssql\n",
    "import pandas as pd\n",
    "import numpy as np\n",
    "import sqlalchemy\n",
    "from sqlalchemy  import create_engine\n",
    "import matplotlib.pyplot as plt\n",
    "\n",
    "from sklearn.cluster import KMeans\n",
    "from sklearn_extra.cluster import KMedoids\n",
    "from sklearn.datasets import load_digits\n",
    "from sklearn.decomposition import PCA\n",
    "from sklearn.preprocessing import scale\n",
    "from sklearn.metrics import adjusted_rand_score, silhouette_score, silhouette_samples\n",
    "from sklearn.neighbors import NearestNeighbors"
   ]
  },
  {
   "cell_type": "code",
   "execution_count": 2,
   "metadata": {},
   "outputs": [],
   "source": [
    "############################### Database Connections ######################################\n",
    "# AWS\n",
    "server = 'pfidb.ci3ir6nuotoi.sa-east-1.rds.amazonaws.com'\n",
    "user = 'admin'\n",
    "password = 'AramLucas2020.'\n",
    "db = 'pfidb'\n",
    "\n",
    "# Local DB PC\n",
    "# server = 'DESKTOP-3OHRULK'\n",
    "# user = 'sa'\n",
    "# password = 'welcome1'\n",
    "# db = 'pfidb'\n",
    "\n",
    "# Connection to DB\n",
    "conn = pymssql.connect(server,user,password,db)\n",
    "\n",
    "#Connection using sqlAlchemy\n",
    "conn_for_insert = fr'mssql+pymssql://'+user+':'+password+'@'+server+'/'+db\n",
    "engine = create_engine(conn_for_insert)"
   ]
  },
  {
   "cell_type": "code",
   "execution_count": 3,
   "metadata": {},
   "outputs": [],
   "source": [
    "#Query that retrives the usage of the stations\n",
    "#query = open(\"master_query_v3.sql\",\"r\")\n",
    "#df_stations_usage = pd.read_sql_query(query.read(),conn)\n",
    "\n",
    "stations_query = \"\"\"SELECT * FROM [estaciones-de-bicicletas-publicas]\"\"\"\n",
    "# stations_query = \"\"\"SELECT * FROM [estaciones-bicicletas-publicas-2019]\"\"\"\n",
    "\n",
    "df_stations = pd.read_sql(stations_query,conn)"
   ]
  },
  {
   "cell_type": "code",
   "execution_count": 5,
   "metadata": {},
   "outputs": [
    {
     "data": {
      "text/html": [
       "<div>\n",
       "<style scoped>\n",
       "    .dataframe tbody tr th:only-of-type {\n",
       "        vertical-align: middle;\n",
       "    }\n",
       "\n",
       "    .dataframe tbody tr th {\n",
       "        vertical-align: top;\n",
       "    }\n",
       "\n",
       "    .dataframe thead th {\n",
       "        text-align: right;\n",
       "    }\n",
       "</style>\n",
       "<table border=\"1\" class=\"dataframe\">\n",
       "  <thead>\n",
       "    <tr style=\"text-align: right;\">\n",
       "      <th></th>\n",
       "      <th>K</th>\n",
       "      <th>sse</th>\n",
       "    </tr>\n",
       "  </thead>\n",
       "  <tbody>\n",
       "    <tr>\n",
       "      <td>0</td>\n",
       "      <td>1.0</td>\n",
       "      <td>6.630639</td>\n",
       "    </tr>\n",
       "    <tr>\n",
       "      <td>1</td>\n",
       "      <td>2.0</td>\n",
       "      <td>4.488644</td>\n",
       "    </tr>\n",
       "    <tr>\n",
       "      <td>2</td>\n",
       "      <td>3.0</td>\n",
       "      <td>4.026058</td>\n",
       "    </tr>\n",
       "    <tr>\n",
       "      <td>3</td>\n",
       "      <td>4.0</td>\n",
       "      <td>3.352051</td>\n",
       "    </tr>\n",
       "    <tr>\n",
       "      <td>4</td>\n",
       "      <td>5.0</td>\n",
       "      <td>2.876781</td>\n",
       "    </tr>\n",
       "    <tr>\n",
       "      <td>...</td>\n",
       "      <td>...</td>\n",
       "      <td>...</td>\n",
       "    </tr>\n",
       "    <tr>\n",
       "      <td>194</td>\n",
       "      <td>195.0</td>\n",
       "      <td>0.020639</td>\n",
       "    </tr>\n",
       "    <tr>\n",
       "      <td>195</td>\n",
       "      <td>196.0</td>\n",
       "      <td>0.016253</td>\n",
       "    </tr>\n",
       "    <tr>\n",
       "      <td>196</td>\n",
       "      <td>197.0</td>\n",
       "      <td>0.012375</td>\n",
       "    </tr>\n",
       "    <tr>\n",
       "      <td>197</td>\n",
       "      <td>198.0</td>\n",
       "      <td>0.006799</td>\n",
       "    </tr>\n",
       "    <tr>\n",
       "      <td>198</td>\n",
       "      <td>199.0</td>\n",
       "      <td>0.000000</td>\n",
       "    </tr>\n",
       "  </tbody>\n",
       "</table>\n",
       "<p>199 rows × 2 columns</p>\n",
       "</div>"
      ],
      "text/plain": [
       "         K       sse\n",
       "0      1.0  6.630639\n",
       "1      2.0  4.488644\n",
       "2      3.0  4.026058\n",
       "3      4.0  3.352051\n",
       "4      5.0  2.876781\n",
       "..     ...       ...\n",
       "194  195.0  0.020639\n",
       "195  196.0  0.016253\n",
       "196  197.0  0.012375\n",
       "197  198.0  0.006799\n",
       "198  199.0  0.000000\n",
       "\n",
       "[199 rows x 2 columns]"
      ]
     },
     "execution_count": 5,
     "metadata": {},
     "output_type": "execute_result"
    }
   ],
   "source": [
    "lat_long = df_stations[[\"lat\", \"long\"]].values\n",
    "sse_df = pd.DataFrame(columns=['K','sse'])\n",
    "sse = {}\n",
    "for k in range(1, int(len(df_stations))+1):\n",
    "    kmeans = KMedoids(n_clusters=k,random_state=0,max_iter=3000,metric=\"manhattan\").fit(lat_long)\n",
    "    sse_df = sse_df.append({'K':k, 'sse':kmeans.inertia_},ignore_index=True)\n",
    "    sse[k] = kmeans.inertia_\n",
    "sse_df\n"
   ]
  },
  {
   "cell_type": "code",
   "execution_count": 6,
   "metadata": {},
   "outputs": [
    {
     "data": {
      "image/png": "[encoded data removed]",
      "text/plain": [
       "<Figure size 432x288 with 1 Axes>"
      ]
     },
     "metadata": {
      "needs_background": "light"
     },
     "output_type": "display_data"
    }
   ],
   "source": [
    "plt.figure()\n",
    "plt.plot(list(sse.keys()), list(sse.values()))\n",
    "plt.xlabel(\"Number of cluster\")\n",
    "plt.ylabel(\"SSE\")\n",
    "plt.show()"
   ]
  },
  {
   "cell_type": "code",
   "execution_count": 8,
   "metadata": {},
   "outputs": [
    {
     "name": "stdout",
     "output_type": "stream",
     "text": [
      "26\n"
     ]
    }
   ],
   "source": [
    "sse_df['variation'] = (sse_df['sse'].pct_change())*-1\n",
    "i = sse_df.loc[(sse_df['variation'] <= 0.1)].index[0]\n",
    "lower_limit = int(sse_df.iloc[i]['K'])\n",
    "upper_limit = int(lower_limit  + round((len(df_stations)*0.1)))\n",
    "print(upper_limit)"
   ]
  },
  {
   "cell_type": "code",
   "execution_count": 9,
   "metadata": {},
   "outputs": [
    {
     "data": {
      "text/html": [
       "<div>\n",
       "<style scoped>\n",
       "    .dataframe tbody tr th:only-of-type {\n",
       "        vertical-align: middle;\n",
       "    }\n",
       "\n",
       "    .dataframe tbody tr th {\n",
       "        vertical-align: top;\n",
       "    }\n",
       "\n",
       "    .dataframe thead th {\n",
       "        text-align: right;\n",
       "    }\n",
       "</style>\n",
       "<table border=\"1\" class=\"dataframe\">\n",
       "  <thead>\n",
       "    <tr style=\"text-align: right;\">\n",
       "      <th></th>\n",
       "      <th>K</th>\n",
       "      <th>sse</th>\n",
       "      <th>variation</th>\n",
       "    </tr>\n",
       "  </thead>\n",
       "  <tbody>\n",
       "    <tr>\n",
       "      <td>5</td>\n",
       "      <td>6.0</td>\n",
       "      <td>2.760996</td>\n",
       "      <td>0.040248</td>\n",
       "    </tr>\n",
       "    <tr>\n",
       "      <td>6</td>\n",
       "      <td>7.0</td>\n",
       "      <td>2.665894</td>\n",
       "      <td>0.034445</td>\n",
       "    </tr>\n",
       "    <tr>\n",
       "      <td>7</td>\n",
       "      <td>8.0</td>\n",
       "      <td>2.494021</td>\n",
       "      <td>0.064471</td>\n",
       "    </tr>\n",
       "    <tr>\n",
       "      <td>9</td>\n",
       "      <td>10.0</td>\n",
       "      <td>2.140104</td>\n",
       "      <td>0.020724</td>\n",
       "    </tr>\n",
       "    <tr>\n",
       "      <td>10</td>\n",
       "      <td>11.0</td>\n",
       "      <td>2.041965</td>\n",
       "      <td>0.045857</td>\n",
       "    </tr>\n",
       "    <tr>\n",
       "      <td>...</td>\n",
       "      <td>...</td>\n",
       "      <td>...</td>\n",
       "      <td>...</td>\n",
       "    </tr>\n",
       "    <tr>\n",
       "      <td>183</td>\n",
       "      <td>184.0</td>\n",
       "      <td>0.098492</td>\n",
       "      <td>-0.007905</td>\n",
       "    </tr>\n",
       "    <tr>\n",
       "      <td>185</td>\n",
       "      <td>186.0</td>\n",
       "      <td>0.081617</td>\n",
       "      <td>0.059621</td>\n",
       "    </tr>\n",
       "    <tr>\n",
       "      <td>186</td>\n",
       "      <td>187.0</td>\n",
       "      <td>0.077403</td>\n",
       "      <td>0.051638</td>\n",
       "    </tr>\n",
       "    <tr>\n",
       "      <td>187</td>\n",
       "      <td>188.0</td>\n",
       "      <td>0.072846</td>\n",
       "      <td>0.058874</td>\n",
       "    </tr>\n",
       "    <tr>\n",
       "      <td>190</td>\n",
       "      <td>191.0</td>\n",
       "      <td>0.051847</td>\n",
       "      <td>0.065071</td>\n",
       "    </tr>\n",
       "  </tbody>\n",
       "</table>\n",
       "<p>178 rows × 3 columns</p>\n",
       "</div>"
      ],
      "text/plain": [
       "         K       sse  variation\n",
       "5      6.0  2.760996   0.040248\n",
       "6      7.0  2.665894   0.034445\n",
       "7      8.0  2.494021   0.064471\n",
       "9     10.0  2.140104   0.020724\n",
       "10    11.0  2.041965   0.045857\n",
       "..     ...       ...        ...\n",
       "183  184.0  0.098492  -0.007905\n",
       "185  186.0  0.081617   0.059621\n",
       "186  187.0  0.077403   0.051638\n",
       "187  188.0  0.072846   0.058874\n",
       "190  191.0  0.051847   0.065071\n",
       "\n",
       "[178 rows x 3 columns]"
      ]
     },
     "execution_count": 9,
     "metadata": {},
     "output_type": "execute_result"
    }
   ],
   "source": [
    "sse_df.loc[(sse_df['variation'] <= 0.1)]"
   ]
  },
  {
   "cell_type": "code",
   "execution_count": 6,
   "metadata": {},
   "outputs": [
    {
     "name": "stdout",
     "output_type": "stream",
     "text": [
      "For n_clusters=6, The Silhouette Coefficient is 0.30100641042806386\n",
      "For n_clusters=7, The Silhouette Coefficient is 0.2637643567845438\n",
      "For n_clusters=8, The Silhouette Coefficient is 0.3320654293956714\n",
      "For n_clusters=9, The Silhouette Coefficient is 0.2895235739596787\n",
      "For n_clusters=10, The Silhouette Coefficient is 0.3204571548794965\n",
      "For n_clusters=11, The Silhouette Coefficient is 0.29836451580529005\n",
      "For n_clusters=12, The Silhouette Coefficient is 0.29572501193360007\n",
      "For n_clusters=13, The Silhouette Coefficient is 0.2892770042691183\n",
      "For n_clusters=14, The Silhouette Coefficient is 0.28101111324427874\n",
      "For n_clusters=15, The Silhouette Coefficient is 0.25666488015173927\n",
      "For n_clusters=16, The Silhouette Coefficient is 0.2829298854278676\n",
      "For n_clusters=17, The Silhouette Coefficient is 0.26118468588849564\n",
      "For n_clusters=18, The Silhouette Coefficient is 0.24799398127120095\n",
      "For n_clusters=19, The Silhouette Coefficient is 0.24107644582555637\n",
      "For n_clusters=20, The Silhouette Coefficient is 0.23429616326973077\n",
      "For n_clusters=21, The Silhouette Coefficient is 0.21495597449835785\n",
      "For n_clusters=22, The Silhouette Coefficient is 0.22198808305004847\n",
      "For n_clusters=23, The Silhouette Coefficient is 0.2259014057265044\n",
      "For n_clusters=24, The Silhouette Coefficient is 0.22814762021545407\n",
      "For n_clusters=25, The Silhouette Coefficient is 0.2159194702987629\n"
     ]
    }
   ],
   "source": [
    "silhouette = pd.DataFrame(columns=['cluster','sil_coeff'])\n",
    "for n_cluster in range(lower_limit, upper_limit):\n",
    "    kmeans = KMedoids(n_clusters=n_cluster,metric=\"manhattan\",random_state=0).fit(lat_long)\n",
    "#     kmeans = KMeans(n_clusters=n_cluster).fit(lat_long)\n",
    "    label = kmeans.labels_\n",
    "    sil_coeff = silhouette_score(lat_long, label, metric='manhattan')\n",
    "    silhouette = silhouette.append({'cluster':n_cluster, 'sil_coeff':sil_coeff},ignore_index=True)\n",
    "    print(\"For n_clusters={}, The Silhouette Coefficient is {}\".format(n_cluster, sil_coeff))\n",
    "# silhouette"
   ]
  },
  {
   "cell_type": "code",
   "execution_count": 7,
   "metadata": {},
   "outputs": [
    {
     "name": "stdout",
     "output_type": "stream",
     "text": [
      "24.0\n"
     ]
    }
   ],
   "source": [
    "# silhouette.loc[silhouette['sil_coeff'].idxmax()]['cluster']\n",
    "silhouette.sort_values('sil_coeff',ascending=False,inplace=True)\n",
    "\n",
    "print(silhouette.loc[silhouette['cluster']>=22]['cluster'].iloc[0]) # 22 is the amount of barrios where a station is available\n"
   ]
  },
  {
   "cell_type": "code",
   "execution_count": 10,
   "metadata": {},
   "outputs": [
    {
     "name": "stdout",
     "output_type": "stream",
     "text": [
      "Automatically created module for IPython interactive environment\n",
      "For n_clusters = 8 The average silhouette_score is : 0.3267186189283301\n"
     ]
    },
    {
     "data": {
      "image/png": "[encoded data removed]",
      "text/plain": [
       "<Figure size 1296x504 with 2 Axes>"
      ]
     },
     "metadata": {
      "needs_background": "light"
     },
     "output_type": "display_data"
    }
   ],
   "source": [
    "from sklearn.datasets import make_blobs\n",
    "from sklearn.cluster import KMeans\n",
    "from sklearn.metrics import silhouette_samples, silhouette_score\n",
    "\n",
    "import matplotlib.pyplot as plt\n",
    "import matplotlib.cm as cm\n",
    "import numpy as np\n",
    "\n",
    "print(__doc__)\n",
    "\n",
    "# Generating the sample data from make_blobs\n",
    "# This particular setting has one distinct cluster and 3 clusters placed close\n",
    "# together.\n",
    "k_to_use = int(silhouette.loc[silhouette['sil_coeff'].idxmax()]['cluster'])\n",
    "range_n_clusters = [k_to_use]\n",
    "X = df_stations[[\"lat\", \"long\"]].values\n",
    "\n",
    "for n_clusters in range_n_clusters:\n",
    "    # Create a subplot with 1 row and 2 columns\n",
    "    fig, (ax1, ax2) = plt.subplots(1, 2)\n",
    "    fig.set_size_inches(18, 7)\n",
    "\n",
    "    # The 1st subplot is the silhouette plot\n",
    "    # The silhouette coefficient can range from -1, 1 but in this example all\n",
    "    # lie within [-0.1, 1]\n",
    "    ax1.set_xlim([-0.1, 1])\n",
    "    # The (n_clusters+1)*10 is for inserting blank space between silhouette\n",
    "    # plots of individual clusters, to demarcate them clearly.\n",
    "    ax1.set_ylim([0, len(X) + (n_clusters + 1) * 10])\n",
    "\n",
    "    # Initialize the clusterer with n_clusters value and a random generator\n",
    "    # seed of 10 for reproducibility.\n",
    "#     clusterer = KMeans(n_clusters=n_clusters, random_state=0)\n",
    "    clusterer = KMedoids(n_clusters=n_clusters, random_state=0,metric=\"manhattan\")\n",
    "    cluster_labels = clusterer.fit_predict(X)\n",
    "\n",
    "    # The silhouette_score gives the average value for all the samples.\n",
    "    # This gives a perspective into the density and separation of the formed\n",
    "    # clusters\n",
    "    silhouette_avg = silhouette_score(X, cluster_labels)\n",
    "    print(\"For n_clusters =\", n_clusters,\n",
    "          \"The average silhouette_score is :\", silhouette_avg)\n",
    "\n",
    "    # Compute the silhouette scores for each sample\n",
    "    sample_silhouette_values = silhouette_samples(X, cluster_labels)\n",
    "\n",
    "    y_lower = 10\n",
    "    for i in range(n_clusters):\n",
    "        # Aggregate the silhouette scores for samples belonging to\n",
    "        # cluster i, and sort them\n",
    "        ith_cluster_silhouette_values = \\\n",
    "            sample_silhouette_values[cluster_labels == i]\n",
    "\n",
    "        ith_cluster_silhouette_values.sort()\n",
    "\n",
    "        size_cluster_i = ith_cluster_silhouette_values.shape[0]\n",
    "        y_upper = y_lower + size_cluster_i\n",
    "\n",
    "        color = cm.nipy_spectral(float(i) / n_clusters)\n",
    "        ax1.fill_betweenx(np.arange(y_lower, y_upper),\n",
    "                          0, ith_cluster_silhouette_values,\n",
    "                          facecolor=color, edgecolor=color, alpha=0.7)\n",
    "\n",
    "        # Label the silhouette plots with their cluster numbers at the middle\n",
    "        ax1.text(-0.05, y_lower + 0.5 * size_cluster_i, str(i))\n",
    "\n",
    "        # Compute the new y_lower for next plot\n",
    "        y_lower = y_upper + 10  # 10 for the 0 samples\n",
    "\n",
    "    ax1.set_title(\"The silhouette plot for the various clusters.\")\n",
    "    ax1.set_xlabel(\"The silhouette coefficient values\")\n",
    "    ax1.set_ylabel(\"Cluster label\")\n",
    "\n",
    "    # The vertical line for average silhouette score of all the values\n",
    "    ax1.axvline(x=silhouette_avg, color=\"red\", linestyle=\"--\")\n",
    "\n",
    "    ax1.set_yticks([])  # Clear the yaxis labels / ticks\n",
    "    ax1.set_xticks([-0.1, 0, 0.2, 0.4, 0.6, 0.8, 1])\n",
    "\n",
    "    # 2nd Plot showing the actual clusters formed\n",
    "    colors = cm.nipy_spectral(cluster_labels.astype(float) / n_clusters)\n",
    "    ax2.scatter(X[:, 0], X[:, 1], marker='.', s=30, lw=0, alpha=0.7,\n",
    "                c=colors, edgecolor='k')\n",
    "\n",
    "    # Labeling the clusters\n",
    "    centers = clusterer.cluster_centers_\n",
    "    # Draw white circles at cluster centers\n",
    "    ax2.scatter(centers[:, 0], centers[:, 1], marker='o',\n",
    "                c=\"white\", alpha=1, s=200, edgecolor='k')\n",
    "\n",
    "    for i, c in enumerate(centers):\n",
    "        ax2.scatter(c[0], c[1], marker='$%d$' % i, alpha=1,\n",
    "                    s=50, edgecolor='k')\n",
    "\n",
    "    ax2.set_title(\"The visualization of the clustered data.\")\n",
    "    ax2.set_xlabel(\"Feature space for the 1st feature\")\n",
    "    ax2.set_ylabel(\"Feature space for the 2nd feature\")\n",
    "\n",
    "    plt.suptitle((\"Silhouette analysis for KMedoids clustering on sample data \"\n",
    "                  \"with n_clusters = %d\" % n_clusters),\n",
    "                 fontsize=14, fontweight='bold')\n",
    "\n",
    "plt.show()"
   ]
  }
 ],
 "metadata": {
  "kernelspec": {
   "display_name": "Python 3",
   "language": "python",
   "name": "python3"
  },
  "language_info": {
   "codemirror_mode": {
    "name": "ipython",
    "version": 3
   },
   "file_extension": ".py",
   "mimetype": "text/x-python",
   "name": "python",
   "nbconvert_exporter": "python",
   "pygments_lexer": "ipython3",
   "version": "3.7.3"
  }
 },
 "nbformat": 4,
 "nbformat_minor": 2
}
