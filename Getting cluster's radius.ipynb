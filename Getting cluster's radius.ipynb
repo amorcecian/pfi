{
 "cells": [
  {
   "cell_type": "code",
   "execution_count": 1,
   "metadata": {},
   "outputs": [
    {
     "name": "stderr",
     "output_type": "stream",
     "text": [
      "C:\\ProgramData\\Anaconda3\\lib\\site-packages\\ipykernel_launcher.py:1: DeprecationWarning: Using or importing the ABCs from 'collections' instead of from 'collections.abc' is deprecated, and in 3.8 it will stop working\n",
      "  \"\"\"Entry point for launching an IPython kernel.\n"
     ]
    }
   ],
   "source": [
    "import pymssql\n",
    "import pandas as pd\n",
    "import numpy as np\n",
    "from functions import *\n",
    "import sqlalchemy\n",
    "from sqlalchemy  import create_engine"
   ]
  },
  {
   "cell_type": "code",
   "execution_count": 2,
   "metadata": {},
   "outputs": [],
   "source": [
    "# Local DB PC\n",
    "server = 'DESKTOP-3OHRULK'\n",
    "user = 'sa'\n",
    "password = 'welcome1'\n",
    "db = 'pfidb'\n",
    "conn = pymssql.connect(server,user,password,db)\n",
    "\n",
    "conn_for_insert = fr'mssql+pymssql://'+user+':'+password+'@'+server+'/'+db\n",
    "engine = create_engine(conn_for_insert)"
   ]
  },
  {
   "cell_type": "code",
   "execution_count": 3,
   "metadata": {},
   "outputs": [],
   "source": [
    "stations_query = \"\"\"SELECT * FROM [estaciones-de-bicicletas-publicas]\"\"\"\n",
    "df_stations = pd.read_sql(stations_query,conn)"
   ]
  },
  {
   "cell_type": "code",
   "execution_count": 4,
   "metadata": {},
   "outputs": [
    {
     "name": "stdout",
     "output_type": "stream",
     "text": [
      "24\n"
     ]
    }
   ],
   "source": [
    "K = defining_right_k(df_stations)\n",
    "print(K)"
   ]
  },
  {
   "cell_type": "code",
   "execution_count": null,
   "metadata": {},
   "outputs": [],
   "source": [
    "def cluster(df_stations, K):\n",
    "    # We are going to create lat_long dataframe, which is a subset of \n",
    "    # df_stations. We're going to cluster that dataframe in centroids in order\n",
    "    # to determine which stations are close to each other.\n",
    "    lat_long = df_stations[[\"lat\", \"long\"]].values\n",
    "    # Now we apply the KMeans algorithm specifying the number of clusters and\n",
    "    # the random state to make the result reproducible (the result is going to\n",
    "    # be always the same if the dataset doesn't change)\n",
    "    kmeans = KMeans(n_clusters=K,random_state=0).fit(lat_long)\n",
    "    # Generate a dataframe with the result of the KMeans algorithm. This df is \n",
    "    # goint to have 3 columns. The cluster number, the latitude and the longitude \n",
    "    # of it\n",
    "    df = pd.DataFrame({'cluster':range(0,K), 'lat_centroide':kmeans.cluster_centers_[:,0]\n",
    "        ,'long_centroide':kmeans.cluster_centers_[:,1]})\n",
    "\n",
    "    # Now we're going to merge the stations dataframe with the new one ir oder \n",
    "    # to add the centroids information to each row of the stations dataframe\n",
    "    df_merged = pd.merge(df_stations,pd.DataFrame(kmeans.labels_),left_index=True,right_index=True)\n",
    "    df_merged = pd.merge(df_merged,df,how='left',left_on=0,right_on='cluster')\n",
    "    df_merged = df_merged.drop(0,axis=1)\n",
    "    df_merged.rename(columns={\"cluster_x\": \"cluster\", \"lat_centroide_x\": \"lat_centroide\"\n",
    "        , \"long_centroide_x\": \"long_centroide\"})\n",
    "    \n",
    "    clusters_centroids=dict()\n",
    "    clusters_radii= dict()\n",
    "\n",
    "    '''looping over clusters and calculate Euclidian distance of \n",
    "    each point within that cluster from its centroid and \n",
    "    pick the maximum which is the radius of that cluster'''\n",
    "\n",
    "    for cluster in list(set(y)):\n",
    "\n",
    "        clusters_centroids[cluster]=list(zip(estimator.cluster_centers_[:, 0],estimator.cluster_centers_[:,1]))[cluster]\n",
    "        clusters_radii[cluster] = max([np.linalg.norm(np.subtract(i,clusters_centroids[cluster])) for i in zip(x[y_kmeans == cluster, 0],x[y_kmeans == cluster, 1])])\n",
    "    \n",
    "    print()\n",
    "    \n",
    "    \n",
    "    return df_merged"
   ]
  },
  {
   "cell_type": "code",
   "execution_count": 6,
   "metadata": {},
   "outputs": [
    {
     "name": "stdout",
     "output_type": "stream",
     "text": [
      "KMeans(algorithm='auto', copy_x=True, init='k-means++', max_iter=300,\n",
      "       n_clusters=24, n_init=10, n_jobs=None, precompute_distances='auto',\n",
      "       random_state=0, tol=0.0001, verbose=0)\n"
     ]
    }
   ],
   "source": [
    "lat_long = df_stations[[\"lat\", \"long\"]].values\n",
    "\n",
    "kmeans = KMeans(n_clusters=K,random_state=0).fit(lat_long)\n",
    "print(kmeans)\n",
    "\n",
    "v\n",
    "\n",
    "\n",
    "# df_merged = pd.merge(df_stations,pd.DataFrame(kmeans.labels_),left_index=True,right_index=True)\n",
    "# df_merged = pd.merge(df_merged,df,how='left',left_on=0,right_on='cluster')\n",
    "# df_merged = df_merged.drop(0,axis=1)\n",
    "# df_merged.rename(columns={\"cluster_x\": \"cluster\", \"lat_centroide_x\": \"lat_centroide\"\n",
    "#     , \"long_centroide_x\": \"long_centroide\"})\n",
    "\n",
    "# clusters_centroids=dict()\n",
    "# clusters_radii= dict()\n",
    "\n",
    "# # looping over clusters and calculate Euclidian distance of \n",
    "# # each point within that cluster from its centroid and \n",
    "# # pick the maximum which is the radius of that cluster\n",
    "\n",
    "for cluster in list(set(y)):\n",
    "\n",
    "    clusters_centroids[cluster]=list(zip(estimator.cluster_centers_[:, 0],estimator.cluster_centers_[:,1]))[cluster]\n",
    "    clusters_radii[cluster] = max([np.linalg.norm(np.subtract(i,clusters_centroids[cluster])) for i in zip(x[y_kmeans == cluster, 0],x[y_kmeans == cluster, 1])])\n",
    "\n",
    "# print()\n"
   ]
  },
  {
   "cell_type": "code",
   "execution_count": null,
   "metadata": {},
   "outputs": [],
   "source": [
    "df = cluster(df_stations,K)\n",
    "df.head(20)"
   ]
  },
  {
   "cell_type": "code",
   "execution_count": 48,
   "metadata": {},
   "outputs": [
    {
     "name": "stdout",
     "output_type": "stream",
     "text": [
      "[0 0 0 0 0 0 0 0 0 0 0 0 0 0 0 0 0 0 0 0 0 0 0 0 0 0 0 0 0 0 0 0 0 0 0 0 0\n",
      " 0 0 0 0 0 0 0 0 0 0 0 0 0 1 1 1 1 1 1 1 1 1 1 1 1 1 1 1 1 1 1 1 1 1 1 1 1\n",
      " 1 1 1 1 1 1 1 1 1 1 1 1 1 1 1 1 1 1 1 1 1 1 1 1 1 1 2 2 2 2 2 2 2 2 2 2 2\n",
      " 2 2 2 2 2 2 2 2 2 2 2 2 2 2 2 2 2 2 2 2 2 2 2 2 2 2 2 2 2 2 2 2 2 2 2 2 2\n",
      " 2 2]\n"
     ]
    }
   ],
   "source": [
    "import numpy as np\n",
    "from sklearn.cluster import KMeans\n",
    "from sklearn import datasets\n",
    "\n",
    "iris = datasets.load_iris()\n",
    "x = iris.data\n",
    "y = iris.target\n",
    "\n",
    "\n",
    "estimator = KMeans(n_clusters=3)#.fit(x)\n",
    "y_kmeans = estimator.fit_predict(x)\n",
    "\n",
    "df = pd.DataFrame({'cluster':range(0,3), 'lat_centroide':estimator.cluster_centers_[:,0]\n",
    "    ,'long_centroide':estimator.cluster_centers_[:,1]})\n",
    "\n",
    "# df['radius'] = max([np.linalg.norm(np.subtract(i,df['cluster'])) for i in zip(x[estimator == df['cluster'], 0],x[estimator == df['cluster'], 1])])\n",
    "\n",
    "# df.head()\n",
    "\n",
    "clusters_centroids=dict()\n",
    "clusters_radii= dict()\n",
    "print(iris.target)\n",
    "# print(x[y_kmeans == 1, 0])\n",
    "# pepe = zip(x[y_kmeans == cluster, 0],x[y_kmeans == cluster, 1])\n",
    "# print(pepe[0])\n",
    "\n",
    "# for cluster in list(set(y)):\n",
    "#     print(cluster)\n",
    "\n",
    "#     clusters_centroids[cluster]=list(zip(estimator.cluster_centers_[:, 0],estimator.cluster_centers_[:,1]))[cluster]\n",
    "#     print(clusters_centroids[cluster])\n",
    "#     clusters_radii[cluster] = max([np.linalg.norm(np.subtract(i,clusters_centroids[cluster])) for i in zip(x[y_kmeans == cluster, 0],x[y_kmeans == cluster, 1])])\n",
    "# #     print(clusters_radii[cluster])\n",
    "    \n",
    "# # print(clusters_radii)"
   ]
  }
 ],
 "metadata": {
  "kernelspec": {
   "display_name": "Python 3",
   "language": "python",
   "name": "python3"
  },
  "language_info": {
   "codemirror_mode": {
    "name": "ipython",
    "version": 3
   },
   "file_extension": ".py",
   "mimetype": "text/x-python",
   "name": "python",
   "nbconvert_exporter": "python",
   "pygments_lexer": "ipython3",
   "version": "3.7.3"
  }
 },
 "nbformat": 4,
 "nbformat_minor": 2
}
